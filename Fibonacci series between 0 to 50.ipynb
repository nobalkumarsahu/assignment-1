{
 "cells": [
  {
   "cell_type": "code",
   "execution_count": null,
   "id": "2d9fad6f",
   "metadata": {},
   "outputs": [],
   "source": [
    "def Fibonacci(n):\n",
    "    \n",
    "    if n < 0:\n",
    "        print(\"Incorrect input\")\n",
    "     \n",
    "    elif n == 0:\n",
    "        return 0\n",
    "    \n",
    "    elif n == 1 or n == 2:\n",
    "        return 1\n",
    "    \n",
    "    else:\n",
    "        return Fibonacci(n-1) + Fibonacci(n-2)\n",
    "for x in range(1, 10):    \n",
    "    print(Fibonacci(x))"
   ]
  }
 ],
 "metadata": {
  "kernelspec": {
   "display_name": "Python 3 (ipykernel)",
   "language": "python",
   "name": "python3"
  },
  "language_info": {
   "codemirror_mode": {
    "name": "ipython",
    "version": 3
   },
   "file_extension": ".py",
   "mimetype": "text/x-python",
   "name": "python",
   "nbconvert_exporter": "python",
   "pygments_lexer": "ipython3",
   "version": "3.10.0"
  }
 },
 "nbformat": 4,
 "nbformat_minor": 5
}
